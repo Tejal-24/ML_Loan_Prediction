{
  "nbformat": 4,
  "nbformat_minor": 0,
  "metadata": {
    "colab": {
      "name": "LoanPrediction_Stratified Kfold CV.ipynb",
      "provenance": [],
      "mount_file_id": "1BWaacqUcBRa0x02e5tkUWHzEpF46RBJN",
      "authorship_tag": "ABX9TyOQ9sJZCyO6mDGEcoFLC0mn"
    },
    "kernelspec": {
      "name": "python3",
      "display_name": "Python 3"
    },
    "language_info": {
      "name": "python"
    }
  },
  "cells": [
    {
      "cell_type": "code",
      "metadata": {
        "colab": {
          "base_uri": "https://localhost:8080/",
          "height": 232
        },
        "id": "pSNBY9wlOzkN",
        "outputId": "0b2f949c-bc6e-4920-b61d-7d8ec75b866d"
      },
      "source": [
        "import pandas as pd\n",
        "import numpy as np\n",
        "import matplotlib.pyplot as plt\n",
        "import seaborn as sns\n",
        "import warnings\n",
        "warnings.filterwarnings(\"ignore\")\n",
        "\n",
        "train = pd.read_csv('/content/drive/MyDrive/Datascience/Loan Prediction/train_ctrUa4K.csv')\n",
        "test = pd.read_csv('/content/drive/MyDrive/Datascience/Loan Prediction/test_lAUu6dG.csv')\n",
        "\n",
        "train.head()"
      ],
      "execution_count": 33,
      "outputs": [
        {
          "output_type": "execute_result",
          "data": {
            "text/html": [
              "<div>\n",
              "<style scoped>\n",
              "    .dataframe tbody tr th:only-of-type {\n",
              "        vertical-align: middle;\n",
              "    }\n",
              "\n",
              "    .dataframe tbody tr th {\n",
              "        vertical-align: top;\n",
              "    }\n",
              "\n",
              "    .dataframe thead th {\n",
              "        text-align: right;\n",
              "    }\n",
              "</style>\n",
              "<table border=\"1\" class=\"dataframe\">\n",
              "  <thead>\n",
              "    <tr style=\"text-align: right;\">\n",
              "      <th></th>\n",
              "      <th>Loan_ID</th>\n",
              "      <th>Gender</th>\n",
              "      <th>Married</th>\n",
              "      <th>Dependents</th>\n",
              "      <th>Education</th>\n",
              "      <th>Self_Employed</th>\n",
              "      <th>ApplicantIncome</th>\n",
              "      <th>CoapplicantIncome</th>\n",
              "      <th>LoanAmount</th>\n",
              "      <th>Loan_Amount_Term</th>\n",
              "      <th>Credit_History</th>\n",
              "      <th>Property_Area</th>\n",
              "      <th>Loan_Status</th>\n",
              "    </tr>\n",
              "  </thead>\n",
              "  <tbody>\n",
              "    <tr>\n",
              "      <th>0</th>\n",
              "      <td>LP001002</td>\n",
              "      <td>Male</td>\n",
              "      <td>No</td>\n",
              "      <td>0</td>\n",
              "      <td>Graduate</td>\n",
              "      <td>No</td>\n",
              "      <td>5849</td>\n",
              "      <td>0.0</td>\n",
              "      <td>NaN</td>\n",
              "      <td>360.0</td>\n",
              "      <td>1.0</td>\n",
              "      <td>Urban</td>\n",
              "      <td>Y</td>\n",
              "    </tr>\n",
              "    <tr>\n",
              "      <th>1</th>\n",
              "      <td>LP001003</td>\n",
              "      <td>Male</td>\n",
              "      <td>Yes</td>\n",
              "      <td>1</td>\n",
              "      <td>Graduate</td>\n",
              "      <td>No</td>\n",
              "      <td>4583</td>\n",
              "      <td>1508.0</td>\n",
              "      <td>128.0</td>\n",
              "      <td>360.0</td>\n",
              "      <td>1.0</td>\n",
              "      <td>Rural</td>\n",
              "      <td>N</td>\n",
              "    </tr>\n",
              "    <tr>\n",
              "      <th>2</th>\n",
              "      <td>LP001005</td>\n",
              "      <td>Male</td>\n",
              "      <td>Yes</td>\n",
              "      <td>0</td>\n",
              "      <td>Graduate</td>\n",
              "      <td>Yes</td>\n",
              "      <td>3000</td>\n",
              "      <td>0.0</td>\n",
              "      <td>66.0</td>\n",
              "      <td>360.0</td>\n",
              "      <td>1.0</td>\n",
              "      <td>Urban</td>\n",
              "      <td>Y</td>\n",
              "    </tr>\n",
              "    <tr>\n",
              "      <th>3</th>\n",
              "      <td>LP001006</td>\n",
              "      <td>Male</td>\n",
              "      <td>Yes</td>\n",
              "      <td>0</td>\n",
              "      <td>Not Graduate</td>\n",
              "      <td>No</td>\n",
              "      <td>2583</td>\n",
              "      <td>2358.0</td>\n",
              "      <td>120.0</td>\n",
              "      <td>360.0</td>\n",
              "      <td>1.0</td>\n",
              "      <td>Urban</td>\n",
              "      <td>Y</td>\n",
              "    </tr>\n",
              "    <tr>\n",
              "      <th>4</th>\n",
              "      <td>LP001008</td>\n",
              "      <td>Male</td>\n",
              "      <td>No</td>\n",
              "      <td>0</td>\n",
              "      <td>Graduate</td>\n",
              "      <td>No</td>\n",
              "      <td>6000</td>\n",
              "      <td>0.0</td>\n",
              "      <td>141.0</td>\n",
              "      <td>360.0</td>\n",
              "      <td>1.0</td>\n",
              "      <td>Urban</td>\n",
              "      <td>Y</td>\n",
              "    </tr>\n",
              "  </tbody>\n",
              "</table>\n",
              "</div>"
            ],
            "text/plain": [
              "    Loan_ID Gender Married  ... Credit_History Property_Area Loan_Status\n",
              "0  LP001002   Male      No  ...            1.0         Urban           Y\n",
              "1  LP001003   Male     Yes  ...            1.0         Rural           N\n",
              "2  LP001005   Male     Yes  ...            1.0         Urban           Y\n",
              "3  LP001006   Male     Yes  ...            1.0         Urban           Y\n",
              "4  LP001008   Male      No  ...            1.0         Urban           Y\n",
              "\n",
              "[5 rows x 13 columns]"
            ]
          },
          "metadata": {
            "tags": []
          },
          "execution_count": 33
        }
      ]
    },
    {
      "cell_type": "code",
      "metadata": {
        "colab": {
          "base_uri": "https://localhost:8080/"
        },
        "id": "yoc9fBwbTjVG",
        "outputId": "a71dd800-6da7-4c98-9c4b-6b0b43161b76"
      },
      "source": [
        "print(train.shape)\n",
        "print(test.shape)"
      ],
      "execution_count": 34,
      "outputs": [
        {
          "output_type": "stream",
          "text": [
            "(614, 13)\n",
            "(367, 12)\n"
          ],
          "name": "stdout"
        }
      ]
    },
    {
      "cell_type": "code",
      "metadata": {
        "colab": {
          "base_uri": "https://localhost:8080/"
        },
        "id": "efw_PG9NToE4",
        "outputId": "20f84460-6840-4dce-fa8d-7f615ad6b719"
      },
      "source": [
        "train['Loan_Status'].value_counts()"
      ],
      "execution_count": 35,
      "outputs": [
        {
          "output_type": "execute_result",
          "data": {
            "text/plain": [
              "Y    422\n",
              "N    192\n",
              "Name: Loan_Status, dtype: int64"
            ]
          },
          "metadata": {
            "tags": []
          },
          "execution_count": 35
        }
      ]
    },
    {
      "cell_type": "code",
      "metadata": {
        "colab": {
          "base_uri": "https://localhost:8080/",
          "height": 279
        },
        "id": "OGIzh068zGU7",
        "outputId": "2a69bebf-0f27-4c73-eff6-a19dc87ac049"
      },
      "source": [
        "loanamount = sns.boxplot(train['LoanAmount'])"
      ],
      "execution_count": 36,
      "outputs": [
        {
          "output_type": "display_data",
          "data": {
            "image/png": "[encoded data removed]",
            "text/plain": [
              "<Figure size 432x288 with 1 Axes>"
            ]
          },
          "metadata": {
            "tags": [],
            "needs_background": "light"
          }
        }
      ]
    },
    {
      "cell_type": "markdown",
      "metadata": {
        "id": "ZUD5ICJlUNNZ"
      },
      "source": [
        "**Bivariate Analysis - Categorical features**\n"
      ]
    },
    {
      "cell_type": "code",
      "metadata": {
        "colab": {
          "base_uri": "https://localhost:8080/",
          "height": 305
        },
        "id": "UWrX-Xc5URjv",
        "outputId": "86634229-99ee-4235-9e04-1cfdb940d5fd"
      },
      "source": [
        "gender = pd.crosstab(train['Gender'],train['Loan_Status']).plot(kind=\"bar\", stacked = True, figsize=(4,4))\n"
      ],
      "execution_count": 37,
      "outputs": [
        {
          "output_type": "display_data",
          "data": {
            "image/png": "[encoded data removed]",
            "text/plain": [
              "<Figure size 288x288 with 1 Axes>"
            ]
          },
          "metadata": {
            "tags": [],
            "needs_background": "light"
          }
        }
      ]
    },
    {
      "cell_type": "code",
      "metadata": {
        "colab": {
          "base_uri": "https://localhost:8080/",
          "height": 285
        },
        "id": "BcyL68PJU01c",
        "outputId": "4645e3c3-e2da-4193-fa6c-cf5b4863e07a"
      },
      "source": [
        "married = pd.crosstab(train['Married'],train['Loan_Status']).plot(kind=\"bar\", stacked = True, figsize=(4,4))"
      ],
      "execution_count": 38,
      "outputs": [
        {
          "output_type": "display_data",
          "data": {
            "image/png": "[encoded data removed]",
            "text/plain": [
              "<Figure size 288x288 with 1 Axes>"
            ]
          },
          "metadata": {
            "tags": [],
            "needs_background": "light"
          }
        }
      ]
    },
    {
      "cell_type": "code",
      "metadata": {
        "colab": {
          "base_uri": "https://localhost:8080/",
          "height": 284
        },
        "id": "TF7EuTpqW0Ga",
        "outputId": "47f661af-c0ae-4454-8cfd-4d344830e670"
      },
      "source": [
        "dependents = pd.crosstab(train['Dependents'],train['Loan_Status']).plot(kind=\"bar\", stacked = True, figsize=(4,4))"
      ],
      "execution_count": 39,
      "outputs": [
        {
          "output_type": "display_data",
          "data": {
            "image/png": "[encoded data removed]",
            "text/plain": [
              "<Figure size 288x288 with 1 Axes>"
            ]
          },
          "metadata": {
            "tags": [],
            "needs_background": "light"
          }
        }
      ]
    },
    {
      "cell_type": "code",
      "metadata": {
        "colab": {
          "base_uri": "https://localhost:8080/",
          "height": 339
        },
        "id": "8TcihinmW7rs",
        "outputId": "f03244a5-9b97-47c2-985a-a653d4ca27a1"
      },
      "source": [
        "education = pd.crosstab(train['Education'],train['Loan_Status']).plot(kind=\"bar\", stacked = True, figsize=(4,4))"
      ],
      "execution_count": 40,
      "outputs": [
        {
          "output_type": "display_data",
          "data": {
            "image/png": "[encoded data removed]",
            "text/plain": [
              "<Figure size 288x288 with 1 Axes>"
            ]
          },
          "metadata": {
            "tags": [],
            "needs_background": "light"
          }
        }
      ]
    },
    {
      "cell_type": "code",
      "metadata": {
        "colab": {
          "base_uri": "https://localhost:8080/",
          "height": 286
        },
        "id": "7-4taKs4XDZf",
        "outputId": "6a037b3b-21e4-4554-805c-3fad52f99d34"
      },
      "source": [
        "self_employed = pd.crosstab(train['Self_Employed'],train['Loan_Status']).plot(kind=\"bar\", stacked = True, figsize=(4,4))"
      ],
      "execution_count": 41,
      "outputs": [
        {
          "output_type": "display_data",
          "data": {
            "image/png": "[encoded data removed]",
            "text/plain": [
              "<Figure size 288x288 with 1 Axes>"
            ]
          },
          "metadata": {
            "tags": [],
            "needs_background": "light"
          }
        }
      ]
    },
    {
      "cell_type": "code",
      "metadata": {
        "colab": {
          "base_uri": "https://localhost:8080/",
          "height": 286
        },
        "id": "rBExPVtkXLEv",
        "outputId": "d56136fc-5925-4df1-a0dd-8962646172af"
      },
      "source": [
        "credit_history = pd.crosstab(train['Credit_History'],train['Loan_Status']).plot(kind=\"bar\", stacked = True, figsize=(4,4))"
      ],
      "execution_count": 42,
      "outputs": [
        {
          "output_type": "display_data",
          "data": {
            "image/png": "[encoded data removed]",
            "text/plain": [
              "<Figure size 288x288 with 1 Axes>"
            ]
          },
          "metadata": {
            "tags": [],
            "needs_background": "light"
          }
        }
      ]
    },
    {
      "cell_type": "code",
      "metadata": {
        "colab": {
          "base_uri": "https://localhost:8080/",
          "height": 324
        },
        "id": "5TcXAtT0Xigy",
        "outputId": "7c96f03e-05cb-4ea5-c1a6-f72a6be55cfa"
      },
      "source": [
        "property_area = pd.crosstab(train['Property_Area'],train['Loan_Status']).plot(kind=\"bar\", stacked = True, figsize=(4,4))"
      ],
      "execution_count": 43,
      "outputs": [
        {
          "output_type": "display_data",
          "data": {
            "image/png": "[encoded data removed]",
            "text/plain": [
              "<Figure size 288x288 with 1 Axes>"
            ]
          },
          "metadata": {
            "tags": [],
            "needs_background": "light"
          }
        }
      ]
    },
    {
      "cell_type": "markdown",
      "metadata": {
        "id": "xtb1DD4cXrQz"
      },
      "source": [
        "**Bivariate analysis - Numerical features**"
      ]
    },
    {
      "cell_type": "code",
      "metadata": {
        "colab": {
          "base_uri": "https://localhost:8080/",
          "height": 295
        },
        "id": "0uXkOHQPYAMp",
        "outputId": "14c21b2a-743e-43dd-eafe-54406ffa0d13"
      },
      "source": [
        "train.groupby('Loan_Status')['ApplicantIncome'].mean().plot.bar()"
      ],
      "execution_count": 44,
      "outputs": [
        {
          "output_type": "execute_result",
          "data": {
            "text/plain": [
              "<matplotlib.axes._subplots.AxesSubplot at 0x7fe1c96b1790>"
            ]
          },
          "metadata": {
            "tags": []
          },
          "execution_count": 44
        },
        {
          "output_type": "display_data",
          "data": {
            "image/png": "[encoded data removed]",
            "text/plain": [
              "<Figure size 432x288 with 1 Axes>"
            ]
          },
          "metadata": {
            "tags": [],
            "needs_background": "light"
          }
        }
      ]
    },
    {
      "cell_type": "code",
      "metadata": {
        "colab": {
          "base_uri": "https://localhost:8080/",
          "height": 319
        },
        "id": "A6hzvu0xYUyY",
        "outputId": "ea99b1e4-c7d1-49a5-e778-f5c2f7655d9a"
      },
      "source": [
        "#Make bins for appicant income\n",
        "bins = [0,2500,4000,6000,18000]\n",
        "group=['Low', 'Average', 'High', 'Very High']\n",
        "train['Income_group'] = pd.cut(train['ApplicantIncome'], bins, labels=group)\n",
        "income_group = pd.crosstab(train['Income_group'],train['Loan_Status']).plot(kind = 'bar', stacked=True, figsize=(4,4))"
      ],
      "execution_count": 45,
      "outputs": [
        {
          "output_type": "display_data",
          "data": {
            "image/png": "[encoded data removed]",
            "text/plain": [
              "<Figure size 288x288 with 1 Axes>"
            ]
          },
          "metadata": {
            "tags": [],
            "needs_background": "light"
          }
        }
      ]
    },
    {
      "cell_type": "code",
      "metadata": {
        "colab": {
          "base_uri": "https://localhost:8080/",
          "height": 311
        },
        "id": "nXIBRmW5ZulK",
        "outputId": "61c13e3c-af4d-410a-9f8f-d8a23e67a976"
      },
      "source": [
        "#Make bins for coapplicant income\n",
        "bins = [0,1000,3000,42000]\n",
        "group=['Low', 'Average', 'High']\n",
        "train['Coapplicant_Income_group'] = pd.cut(train['CoapplicantIncome'], bins, labels=group)\n",
        "Coapp_income_group = pd.crosstab(train['Coapplicant_Income_group'],train['Loan_Status']).plot(kind = 'bar', stacked=True, figsize=(4,4))"
      ],
      "execution_count": 46,
      "outputs": [
        {
          "output_type": "display_data",
          "data": {
            "image/png": "[encoded data removed]",
            "text/plain": [
              "<Figure size 288x288 with 1 Axes>"
            ]
          },
          "metadata": {
            "tags": [],
            "needs_background": "light"
          }
        }
      ]
    },
    {
      "cell_type": "code",
      "metadata": {
        "colab": {
          "base_uri": "https://localhost:8080/",
          "height": 311
        },
        "id": "47kIMgHya_p9",
        "outputId": "e9c63f3f-2f50-4080-d6aa-204029c7b03a"
      },
      "source": [
        "bins = [0,100,200,700]\n",
        "group=['Low', 'Average', 'High']\n",
        "train['Loan_Amout_Group'] = pd.cut(train['LoanAmount'], bins, labels=group)\n",
        "loan_income_group = pd.crosstab(train['Loan_Amout_Group'],train['Loan_Status']).plot(kind = 'bar', stacked=True, figsize=(4,4))"
      ],
      "execution_count": 47,
      "outputs": [
        {
          "output_type": "display_data",
          "data": {
            "image/png": "[encoded data removed]",
            "text/plain": [
              "<Figure size 288x288 with 1 Axes>"
            ]
          },
          "metadata": {
            "tags": [],
            "needs_background": "light"
          }
        }
      ]
    },
    {
      "cell_type": "code",
      "metadata": {
        "colab": {
          "base_uri": "https://localhost:8080/",
          "height": 482
        },
        "id": "xsK7vy5eco_1",
        "outputId": "7869baa2-ff8f-4e02-cb50-1c6a6ca19636"
      },
      "source": [
        "train['Loan_Status'].replace('N',0,inplace =True)\n",
        "train['Loan_Status'].replace('Y',1,inplace =True)\n",
        "corr_matrix = train.corr()\n",
        "f, ax =plt.subplots(figsize = (9,6))\n",
        "sns.heatmap(corr_matrix, square = True,  cmap = 'BuPu')"
      ],
      "execution_count": 48,
      "outputs": [
        {
          "output_type": "execute_result",
          "data": {
            "text/plain": [
              "<matplotlib.axes._subplots.AxesSubplot at 0x7fe1d40119d0>"
            ]
          },
          "metadata": {
            "tags": []
          },
          "execution_count": 48
        },
        {
          "output_type": "display_data",
          "data": {
            "image/png": "[encoded data removed]",
            "text/plain": [
              "<Figure size 648x432 with 2 Axes>"
            ]
          },
          "metadata": {
            "tags": [],
            "needs_background": "light"
          }
        }
      ]
    },
    {
      "cell_type": "code",
      "metadata": {
        "id": "pWY7ZG_axEHC"
      },
      "source": [
        "#drop the newly added columns\n",
        "train = train.drop(['Coapplicant_Income_group', 'Loan_Amout_Group'], axis = 1)\n",
        "train = train.drop(['Income_group'], axis = 1)"
      ],
      "execution_count": 49,
      "outputs": []
    },
    {
      "cell_type": "code",
      "metadata": {
        "id": "qmTA5l3LdUGU",
        "colab": {
          "base_uri": "https://localhost:8080/"
        },
        "outputId": "97793eee-d4d8-4ec3-e12c-b29f6c93f8e0"
      },
      "source": [
        "# check missing values\n",
        "train.isnull().sum()"
      ],
      "execution_count": 50,
      "outputs": [
        {
          "output_type": "execute_result",
          "data": {
            "text/plain": [
              "Loan_ID               0\n",
              "Gender               13\n",
              "Married               3\n",
              "Dependents           15\n",
              "Education             0\n",
              "Self_Employed        32\n",
              "ApplicantIncome       0\n",
              "CoapplicantIncome     0\n",
              "LoanAmount           22\n",
              "Loan_Amount_Term     14\n",
              "Credit_History       50\n",
              "Property_Area         0\n",
              "Loan_Status           0\n",
              "dtype: int64"
            ]
          },
          "metadata": {
            "tags": []
          },
          "execution_count": 50
        }
      ]
    },
    {
      "cell_type": "code",
      "metadata": {
        "id": "fj30_6wiv7wZ"
      },
      "source": [
        "train['Gender'].fillna(train['Gender'].mode()[0],inplace = True)\n",
        "train['Married'].fillna(train['Married'].mode()[0], inplace = True)\n",
        "train['Dependents'].fillna(train['Dependents'].mode()[0], inplace = True)\n",
        "train['Self_Employed'].fillna(train['Self_Employed'].mode()[0], inplace = True)\n",
        "train['Credit_History'].fillna(train['Credit_History'].mode()[0], inplace = True)\n",
        "train['Loan_Amount_Term'].fillna(train['Loan_Amount_Term'].mode()[0], inplace = True)\n",
        "train['LoanAmount'].fillna(train['LoanAmount'].median(), inplace = True)\n",
        "\n"
      ],
      "execution_count": 51,
      "outputs": []
    },
    {
      "cell_type": "code",
      "metadata": {
        "colab": {
          "base_uri": "https://localhost:8080/",
          "height": 282
        },
        "id": "yKdGAzm0yEnj",
        "outputId": "f441f340-d087-471f-d317-bba62b823a08"
      },
      "source": [
        "# Handling outliers in the Loan Amount column\n",
        "train['Loan_Amount_Log'] = np.log(train['LoanAmount'])\n",
        "train['Loan_Amount_Log'].hist(bins = 20)"
      ],
      "execution_count": 52,
      "outputs": [
        {
          "output_type": "execute_result",
          "data": {
            "text/plain": [
              "<matplotlib.axes._subplots.AxesSubplot at 0x7fe1d58e8a50>"
            ]
          },
          "metadata": {
            "tags": []
          },
          "execution_count": 52
        },
        {
          "output_type": "display_data",
          "data": {
            "image/png": "[encoded data removed]",
            "text/plain": [
              "<Figure size 432x288 with 1 Axes>"
            ]
          },
          "metadata": {
            "tags": [],
            "needs_background": "light"
          }
        }
      ]
    },
    {
      "cell_type": "code",
      "metadata": {
        "id": "RmFnI6sYzl3M"
      },
      "source": [
        "test['Gender'].fillna(test['Gender'].mode()[0],inplace = True)\n",
        "test['Married'].fillna(test['Married'].mode()[0], inplace = True)\n",
        "test['Dependents'].fillna(test['Dependents'].mode()[0], inplace = True)\n",
        "test['Self_Employed'].fillna(test['Self_Employed'].mode()[0], inplace = True)\n",
        "test['Credit_History'].fillna(test['Credit_History'].mode()[0], inplace = True)\n",
        "test['Loan_Amount_Term'].fillna(test['Loan_Amount_Term'].mode()[0], inplace = True)\n",
        "test['LoanAmount'].fillna(test['LoanAmount'].median(), inplace = True)\n",
        "test['Loan_Amount_Log'] = np.log(test['LoanAmount'])"
      ],
      "execution_count": 53,
      "outputs": []
    },
    {
      "cell_type": "code",
      "metadata": {
        "id": "qPnHVfyLz2lK"
      },
      "source": [
        "train = train.drop(['Loan_ID'], axis = 1)\n",
        "test = test.drop(['Loan_ID'], axis = 1)"
      ],
      "execution_count": 54,
      "outputs": []
    },
    {
      "cell_type": "code",
      "metadata": {
        "id": "pRwKC78n17KT"
      },
      "source": [
        "X = train.drop(['Loan_Status'], axis = 1)\n",
        "y= train['Loan_Status']\n",
        "\n",
        "X = pd.get_dummies(X)\n",
        "train = pd.get_dummies(train)\n",
        "test = pd.get_dummies(test)"
      ],
      "execution_count": 55,
      "outputs": []
    },
    {
      "cell_type": "code",
      "metadata": {
        "colab": {
          "base_uri": "https://localhost:8080/",
          "height": 232
        },
        "id": "bGjgI-dE2qMF",
        "outputId": "5f9e2b2a-5a53-4c69-f78d-b14ad5187a15"
      },
      "source": [
        "X.head()"
      ],
      "execution_count": 56,
      "outputs": [
        {
          "output_type": "execute_result",
          "data": {
            "text/html": [
              "<div>\n",
              "<style scoped>\n",
              "    .dataframe tbody tr th:only-of-type {\n",
              "        vertical-align: middle;\n",
              "    }\n",
              "\n",
              "    .dataframe tbody tr th {\n",
              "        vertical-align: top;\n",
              "    }\n",
              "\n",
              "    .dataframe thead th {\n",
              "        text-align: right;\n",
              "    }\n",
              "</style>\n",
              "<table border=\"1\" class=\"dataframe\">\n",
              "  <thead>\n",
              "    <tr style=\"text-align: right;\">\n",
              "      <th></th>\n",
              "      <th>ApplicantIncome</th>\n",
              "      <th>CoapplicantIncome</th>\n",
              "      <th>LoanAmount</th>\n",
              "      <th>Loan_Amount_Term</th>\n",
              "      <th>Credit_History</th>\n",
              "      <th>Loan_Amount_Log</th>\n",
              "      <th>Gender_Female</th>\n",
              "      <th>Gender_Male</th>\n",
              "      <th>Married_No</th>\n",
              "      <th>Married_Yes</th>\n",
              "      <th>Dependents_0</th>\n",
              "      <th>Dependents_1</th>\n",
              "      <th>Dependents_2</th>\n",
              "      <th>Dependents_3+</th>\n",
              "      <th>Education_Graduate</th>\n",
              "      <th>Education_Not Graduate</th>\n",
              "      <th>Self_Employed_No</th>\n",
              "      <th>Self_Employed_Yes</th>\n",
              "      <th>Property_Area_Rural</th>\n",
              "      <th>Property_Area_Semiurban</th>\n",
              "      <th>Property_Area_Urban</th>\n",
              "    </tr>\n",
              "  </thead>\n",
              "  <tbody>\n",
              "    <tr>\n",
              "      <th>0</th>\n",
              "      <td>5849</td>\n",
              "      <td>0.0</td>\n",
              "      <td>128.0</td>\n",
              "      <td>360.0</td>\n",
              "      <td>1.0</td>\n",
              "      <td>4.852030</td>\n",
              "      <td>0</td>\n",
              "      <td>1</td>\n",
              "      <td>1</td>\n",
              "      <td>0</td>\n",
              "      <td>1</td>\n",
              "      <td>0</td>\n",
              "      <td>0</td>\n",
              "      <td>0</td>\n",
              "      <td>1</td>\n",
              "      <td>0</td>\n",
              "      <td>1</td>\n",
              "      <td>0</td>\n",
              "      <td>0</td>\n",
              "      <td>0</td>\n",
              "      <td>1</td>\n",
              "    </tr>\n",
              "    <tr>\n",
              "      <th>1</th>\n",
              "      <td>4583</td>\n",
              "      <td>1508.0</td>\n",
              "      <td>128.0</td>\n",
              "      <td>360.0</td>\n",
              "      <td>1.0</td>\n",
              "      <td>4.852030</td>\n",
              "      <td>0</td>\n",
              "      <td>1</td>\n",
              "      <td>0</td>\n",
              "      <td>1</td>\n",
              "      <td>0</td>\n",
              "      <td>1</td>\n",
              "      <td>0</td>\n",
              "      <td>0</td>\n",
              "      <td>1</td>\n",
              "      <td>0</td>\n",
              "      <td>1</td>\n",
              "      <td>0</td>\n",
              "      <td>1</td>\n",
              "      <td>0</td>\n",
              "      <td>0</td>\n",
              "    </tr>\n",
              "    <tr>\n",
              "      <th>2</th>\n",
              "      <td>3000</td>\n",
              "      <td>0.0</td>\n",
              "      <td>66.0</td>\n",
              "      <td>360.0</td>\n",
              "      <td>1.0</td>\n",
              "      <td>4.189655</td>\n",
              "      <td>0</td>\n",
              "      <td>1</td>\n",
              "      <td>0</td>\n",
              "      <td>1</td>\n",
              "      <td>1</td>\n",
              "      <td>0</td>\n",
              "      <td>0</td>\n",
              "      <td>0</td>\n",
              "      <td>1</td>\n",
              "      <td>0</td>\n",
              "      <td>0</td>\n",
              "      <td>1</td>\n",
              "      <td>0</td>\n",
              "      <td>0</td>\n",
              "      <td>1</td>\n",
              "    </tr>\n",
              "    <tr>\n",
              "      <th>3</th>\n",
              "      <td>2583</td>\n",
              "      <td>2358.0</td>\n",
              "      <td>120.0</td>\n",
              "      <td>360.0</td>\n",
              "      <td>1.0</td>\n",
              "      <td>4.787492</td>\n",
              "      <td>0</td>\n",
              "      <td>1</td>\n",
              "      <td>0</td>\n",
              "      <td>1</td>\n",
              "      <td>1</td>\n",
              "      <td>0</td>\n",
              "      <td>0</td>\n",
              "      <td>0</td>\n",
              "      <td>0</td>\n",
              "      <td>1</td>\n",
              "      <td>1</td>\n",
              "      <td>0</td>\n",
              "      <td>0</td>\n",
              "      <td>0</td>\n",
              "      <td>1</td>\n",
              "    </tr>\n",
              "    <tr>\n",
              "      <th>4</th>\n",
              "      <td>6000</td>\n",
              "      <td>0.0</td>\n",
              "      <td>141.0</td>\n",
              "      <td>360.0</td>\n",
              "      <td>1.0</td>\n",
              "      <td>4.948760</td>\n",
              "      <td>0</td>\n",
              "      <td>1</td>\n",
              "      <td>1</td>\n",
              "      <td>0</td>\n",
              "      <td>1</td>\n",
              "      <td>0</td>\n",
              "      <td>0</td>\n",
              "      <td>0</td>\n",
              "      <td>1</td>\n",
              "      <td>0</td>\n",
              "      <td>1</td>\n",
              "      <td>0</td>\n",
              "      <td>0</td>\n",
              "      <td>0</td>\n",
              "      <td>1</td>\n",
              "    </tr>\n",
              "  </tbody>\n",
              "</table>\n",
              "</div>"
            ],
            "text/plain": [
              "   ApplicantIncome  ...  Property_Area_Urban\n",
              "0             5849  ...                    1\n",
              "1             4583  ...                    0\n",
              "2             3000  ...                    1\n",
              "3             2583  ...                    1\n",
              "4             6000  ...                    1\n",
              "\n",
              "[5 rows x 21 columns]"
            ]
          },
          "metadata": {
            "tags": []
          },
          "execution_count": 56
        }
      ]
    },
    {
      "cell_type": "code",
      "metadata": {
        "id": "m_sDEb-c63l7"
      },
      "source": [
        "from sklearn.model_selection import train_test_split\n",
        "X_train, X_test, y_train, y_test = train_test_split(X, y, test_size = 0.3)"
      ],
      "execution_count": 57,
      "outputs": []
    },
    {
      "cell_type": "code",
      "metadata": {
        "colab": {
          "base_uri": "https://localhost:8080/"
        },
        "id": "c0JKI1p27-Tq",
        "outputId": "b39c87f8-a930-40cb-82a3-f5b2b7dd4fd3"
      },
      "source": [
        "from sklearn.linear_model import LogisticRegression\n",
        "from sklearn.metrics import accuracy_score\n",
        "\n"
      ],
      "execution_count": 58,
      "outputs": [
        {
          "output_type": "execute_result",
          "data": {
            "text/plain": [
              "LogisticRegression(C=1.0, class_weight=None, dual=False, fit_intercept=True,\n",
              "                   intercept_scaling=1, l1_ratio=None, max_iter=100,\n",
              "                   multi_class='auto', n_jobs=None, penalty='l2',\n",
              "                   random_state=None, solver='lbfgs', tol=0.0001, verbose=0,\n",
              "                   warm_start=False)"
            ]
          },
          "metadata": {
            "tags": []
          },
          "execution_count": 58
        }
      ]
    },
    {
      "cell_type": "markdown",
      "metadata": {
        "id": "WSIQC0c6Ea5P"
      },
      "source": [
        "**Stratified K fold cross validation**"
      ]
    },
    {
      "cell_type": "code",
      "metadata": {
        "id": "Jeyw-Br89OMG",
        "colab": {
          "base_uri": "https://localhost:8080/"
        },
        "outputId": "773314a2-b1b3-42db-9bef-c47eabcb70ec"
      },
      "source": [
        "#######  Logistic regression #######\n",
        "\n",
        "from sklearn.model_selection import StratifiedKFold\n",
        "i = 1\n",
        "score_mat = []\n",
        "kf = StratifiedKFold(n_splits = 5, random_state = 1, shuffle = True)\n",
        "for train_index, test_index in kf.split(X,y):\n",
        "  print('\\n{} of kfold {}'.format(i, kf.n_splits))\n",
        "  xtr, xvl = X.loc[train_index], X.loc[test_index]\n",
        "  ytr, yvl = y[train_index], y[test_index]\n",
        "\n",
        "  model  = LogisticRegression(random_state = 1)\n",
        "  model.fit(xtr,ytr)\n",
        "  pred = model.predict(xvl)\n",
        "  score = accuracy_score(yvl, pred)\n",
        "  score_mat.append(score)\n",
        "  print(score)\n",
        "\n",
        "  i+=1\n",
        "\n",
        "print('Mean accuracy', np.mean(score_mat))\n",
        "\n"
      ],
      "execution_count": 73,
      "outputs": [
        {
          "output_type": "stream",
          "text": [
            "\n",
            "1 of kfold 5\n",
            "0.8048780487804879\n",
            "\n",
            "2 of kfold 5\n",
            "0.8373983739837398\n",
            "\n",
            "3 of kfold 5\n",
            "0.7804878048780488\n",
            "\n",
            "4 of kfold 5\n",
            "0.7886178861788617\n",
            "\n",
            "5 of kfold 5\n",
            "0.7950819672131147\n",
            "Mean accuracy 0.8012928162068507\n"
          ],
          "name": "stdout"
        }
      ]
    },
    {
      "cell_type": "code",
      "metadata": {
        "colab": {
          "base_uri": "https://localhost:8080/"
        },
        "id": "DADglxWYDwhx",
        "outputId": "68d8c092-2521-4491-b69b-b718a22698bd"
      },
      "source": [
        "####### Decision Tree ######\n",
        "\n",
        "from sklearn import tree\n",
        "\n",
        "score_mat = []\n",
        "i = 1\n",
        "kf = StratifiedKFold(n_splits = 5, random_state= 1, shuffle = True)\n",
        "for train_index, test_index in kf.split(X,y):\n",
        "  print('\\n{} of kfold {}'.format(i, kf.n_splits))\n",
        "  xtr,xvl = X.loc[train_index], X.loc[test_index]\n",
        "  ytr,yvl = y[train_index], y[test_index]\n",
        "\n",
        "  model = tree.DecisionTreeClassifier(random_state = 1)\n",
        "  model.fit(xtr, ytr)\n",
        "  dt_pred = model.predict(xvl)\n",
        "  score =accuracy_score(yvl, dt_pred)\n",
        "  score_mat.append(score)\n",
        "  print(score)\n",
        "\n",
        "  i+=1\n",
        "print('Mean accuracy', np.mean(score_mat))"
      ],
      "execution_count": 72,
      "outputs": [
        {
          "output_type": "stream",
          "text": [
            "\n",
            "1 of kfold 5\n",
            "0.7073170731707317\n",
            "\n",
            "2 of kfold 5\n",
            "0.7235772357723578\n",
            "\n",
            "3 of kfold 5\n",
            "0.7073170731707317\n",
            "\n",
            "4 of kfold 5\n",
            "0.7154471544715447\n",
            "\n",
            "5 of kfold 5\n",
            "0.6885245901639344\n",
            "Mean accuracy 0.70843662534986\n"
          ],
          "name": "stdout"
        }
      ]
    },
    {
      "cell_type": "code",
      "metadata": {
        "colab": {
          "base_uri": "https://localhost:8080/"
        },
        "id": "ZEOJMCBWGSqp",
        "outputId": "76b548bd-d888-4d54-a90b-8d23b1c61bd1"
      },
      "source": [
        "######## Random Forest classifier with hyperparatmeter tuning ##########\n",
        "\n",
        "from sklearn.ensemble import RandomForestClassifier\n",
        "from sklearn.model_selection import GridSearchCV\n",
        "\n",
        "#hypertuning n_estimators and max_depth\n",
        "paramgrid = {'max_depth' : list(range(1,20,2)), 'n_estimators': list(range(1,200,20))}\n",
        "\n",
        "grid_search = GridSearchCV(RandomForestClassifier(random_state = 1), paramgrid)\n",
        "\n",
        "from sklearn.model_selection import train_test_split\n",
        "X_train, X_test, y_train, y_test = train_test_split(X,y , random_state=1, test_size = 0.3)\n",
        "\n",
        "grid_search.fit(X_train, y_train)"
      ],
      "execution_count": 64,
      "outputs": [
        {
          "output_type": "execute_result",
          "data": {
            "text/plain": [
              "GridSearchCV(cv=None, error_score=nan,\n",
              "             estimator=RandomForestClassifier(bootstrap=True, ccp_alpha=0.0,\n",
              "                                              class_weight=None,\n",
              "                                              criterion='gini', max_depth=None,\n",
              "                                              max_features='auto',\n",
              "                                              max_leaf_nodes=None,\n",
              "                                              max_samples=None,\n",
              "                                              min_impurity_decrease=0.0,\n",
              "                                              min_impurity_split=None,\n",
              "                                              min_samples_leaf=1,\n",
              "                                              min_samples_split=2,\n",
              "                                              min_weight_fraction_leaf=0.0,\n",
              "                                              n_estimators=100, n_jobs=None,\n",
              "                                              oob_score=False, random_state=1,\n",
              "                                              verbose=0, warm_start=False),\n",
              "             iid='deprecated', n_jobs=None,\n",
              "             param_grid={'max_depth': [1, 3, 5, 7, 9, 11, 13, 15, 17, 19],\n",
              "                         'n_estimators': [1, 21, 41, 61, 81, 101, 121, 141, 161,\n",
              "                                          181]},\n",
              "             pre_dispatch='2*n_jobs', refit=True, return_train_score=False,\n",
              "             scoring=None, verbose=0)"
            ]
          },
          "metadata": {
            "tags": []
          },
          "execution_count": 64
        }
      ]
    },
    {
      "cell_type": "code",
      "metadata": {
        "colab": {
          "base_uri": "https://localhost:8080/"
        },
        "id": "PrxI15_yI8Vb",
        "outputId": "e55f2879-4f23-4380-e163-4d500639c414"
      },
      "source": [
        "grid_search.best_estimator_"
      ],
      "execution_count": 65,
      "outputs": [
        {
          "output_type": "execute_result",
          "data": {
            "text/plain": [
              "RandomForestClassifier(bootstrap=True, ccp_alpha=0.0, class_weight=None,\n",
              "                       criterion='gini', max_depth=9, max_features='auto',\n",
              "                       max_leaf_nodes=None, max_samples=None,\n",
              "                       min_impurity_decrease=0.0, min_impurity_split=None,\n",
              "                       min_samples_leaf=1, min_samples_split=2,\n",
              "                       min_weight_fraction_leaf=0.0, n_estimators=81,\n",
              "                       n_jobs=None, oob_score=False, random_state=1, verbose=0,\n",
              "                       warm_start=False)"
            ]
          },
          "metadata": {
            "tags": []
          },
          "execution_count": 65
        }
      ]
    },
    {
      "cell_type": "code",
      "metadata": {
        "colab": {
          "base_uri": "https://localhost:8080/"
        },
        "id": "QkRQCMfRJekl",
        "outputId": "c996ca56-a06a-4577-96ec-ff2bf4f04394"
      },
      "source": [
        "#### Using the optimized values of the classifier with K fold cross validation ####\n",
        "\n",
        "i = 1\n",
        "score_mat = []\n",
        "kf = StratifiedKFold(n_splits=5, shuffle= True, random_state=1)\n",
        "for train_index, test_index in kf.split(X,y):\n",
        "  print('\\n{} kfold in {}'.format(i, kf.n_splits))\n",
        "  xtr,xvl = X.loc[train_index], X.loc[test_index]\n",
        "  ytr,yvl = y[train_index], y[test_index]\n",
        "  model = RandomForestClassifier(max_depth =9, n_estimators= 81, random_state=1)\n",
        "  model.fit(xtr, ytr)\n",
        "  rf_pred = model.predict(xvl)\n",
        "  score = accuracy_score(yvl, rf_pred)\n",
        "  score_mat.append(score)\n",
        "  print(score)\n",
        "\n",
        "  i+=1\n",
        "print('Mean accuracy', np.mean(score_mat))  "
      ],
      "execution_count": 71,
      "outputs": [
        {
          "output_type": "stream",
          "text": [
            "\n",
            "1 kfold in 5\n",
            "0.8048780487804879\n",
            "\n",
            "2 kfold in 5\n",
            "0.8455284552845529\n",
            "\n",
            "3 kfold in 5\n",
            "0.8130081300813008\n",
            "\n",
            "4 kfold in 5\n",
            "0.7967479674796748\n",
            "\n",
            "5 kfold in 5\n",
            "0.7704918032786885\n",
            "Mean accuracy 0.8061308809809409\n"
          ],
          "name": "stdout"
        }
      ]
    },
    {
      "cell_type": "code",
      "metadata": {
        "colab": {
          "base_uri": "https://localhost:8080/"
        },
        "id": "KlATwfWFLJfi",
        "outputId": "b401b754-f3f7-4926-e237-5709be298815"
      },
      "source": [
        "###### XGBoost Classifier######\n",
        "\n",
        "from xgboost import XGBClassifier\n",
        "\n",
        "i=1\n",
        "kf = StratifiedKFold(n_splits=5, shuffle = True, random_state=1)\n",
        "for train_index, test_index in kf.split(X,y):\n",
        "  print('\\n{} kfold in {}'.format(i, kf.n_splits))\n",
        "  xtr,xvl = X.loc[train_index], X.loc[test_index]\n",
        "  ytr,yvl = y[train_index], y[test_index]\n",
        "  model = XGBClassifier(max_depth =4, n_estimators= 50, random_state=1)\n",
        "  model.fit(xtr, ytr)\n",
        "  xgb_pred = model.predict(xvl)\n",
        "  score = accuracy_score(yvl, xgb_pred)\n",
        "  score_mat.append(score)\n",
        "  print(score)\n",
        "\n",
        "  i+=1\n",
        "print('Mean accuracy', np.mean(score_mat))  "
      ],
      "execution_count": 75,
      "outputs": [
        {
          "output_type": "stream",
          "text": [
            "\n",
            "1 kfold in 5\n",
            "0.8048780487804879\n",
            "\n",
            "2 kfold in 5\n",
            "0.8211382113821138\n",
            "\n",
            "3 kfold in 5\n",
            "0.7967479674796748\n",
            "\n",
            "4 kfold in 5\n",
            "0.7886178861788617\n",
            "\n",
            "5 kfold in 5\n",
            "0.8032786885245902\n",
            "Mean accuracy 0.8021124883379983\n"
          ],
          "name": "stdout"
        }
      ]
    },
    {
      "cell_type": "code",
      "metadata": {
        "id": "ALmBjxzlNtsb"
      },
      "source": [
        ""
      ],
      "execution_count": null,
      "outputs": []
    }
  ]
}